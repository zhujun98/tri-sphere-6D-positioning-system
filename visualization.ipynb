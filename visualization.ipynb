{
 "cells": [
  {
   "cell_type": "code",
   "execution_count": null,
   "metadata": {},
   "outputs": [],
   "source": [
    "import numpy as np\n",
    "import matplotlib.pyplot as plt\n",
    "%matplotlib inline\n",
    "\n",
    "from kinematics import (\n",
    "    trisphere_forward_kinematics, trisphere_inverse_kinematics, rotation_x, rotation_y, rotation_z, \n",
    "    rotation_fixed_angle\n",
    ")"
   ]
  },
  {
   "cell_type": "code",
   "execution_count": null,
   "metadata": {},
   "outputs": [],
   "source": [
    "jack1_np = np.array([1150, 0, 100])\n",
    "jack2_np = np.array([0, 0, 0])\n",
    "jack3_np = np.array([530, 0, 970])\n",
    "jack_np = (jack1_np, jack2_np, jack3_np)\n",
    "\n",
    "jack1_np_min = jack1_np - np.array([200, 0, 0])\n",
    "jack1_np_max = jack1_np + np.array([200, 0, 0])\n",
    "\n",
    "jack2_np_min = jack2_np - np.array([0, 0, 200])\n",
    "jack2_np_max = jack2_np + np.array([0, 0, 200])\n",
    "\n",
    "jack3_np_min = jack3_np - np.array([0, 0, 200])\n",
    "jack3_np_max = jack3_np + np.array([0, 0, 200])\n",
    "\n",
    "jack_np_min = (jack1_np_min, jack2_np_min, jack3_np_min)\n",
    "jack_np_max = (jack1_np_max, jack2_np_max, jack3_np_max)\n",
    "\n",
    "c_np = np.array([300, 400, 300])\n",
    "\n",
    "npointing = np.array([0., 0., 1.])"
   ]
  },
  {
   "cell_type": "markdown",
   "metadata": {},
   "source": [
    "## Forward kinematics"
   ]
  },
  {
   "cell_type": "code",
   "execution_count": null,
   "metadata": {},
   "outputs": [],
   "source": [
    "jack_p = (np.array([  0.        , 60.03554473, -104.02106397]), \n",
    "          np.array([ -1.89714087, 26.30424607,    0.        ]), \n",
    "          np.array([ 64.52008861, -1.49899447,    0.        ]))\n",
    "\n",
    "\n",
    "c_p, c_r = trisphere_forward_kinematics(jack_p, jack_np, c_np)\n",
    "print(c_p, np.rad2deg(c_r))"
   ]
  },
  {
   "cell_type": "markdown",
   "metadata": {},
   "source": [
    "## Inverse kinematics"
   ]
  },
  {
   "cell_type": "code",
   "execution_count": null,
   "metadata": {},
   "outputs": [],
   "source": [
    "def plot_arrow(ax, x0, y0, dx, dy, color):\n",
    "    ax.plot(x0, y0, '.', color=color, ms=20, label='Origin of control point')\n",
    "    ax.plot((x0, x0 + 100*dx), (y0, y0 + 100*dy), '-', color=color, lw=2, alpha=0.7)\n",
    "    if dx or dy:\n",
    "        ax.arrow(x0 + 80*dx, y0 + 80*dy, dx, dy, head_width=25, head_length=40, color=color)    \n",
    "\n",
    "    \n",
    "def visualize():\n",
    "    \"\"\"\"\"\"\n",
    "    def visualize_plane(i, j, figsize):\n",
    "        fig, ax = plt.subplots(figsize=figsize)\n",
    "\n",
    "        # original vector\n",
    "        plot_arrow(ax, c_np[i], c_np[j], npointing[i], npointing[j], 'k')\n",
    "        \n",
    "        # target vector\n",
    "        plot_arrow(ax, c_p[i] + c_np[i], c_p[j] + c_np[j], pointing[i], pointing[j], 'r')\n",
    "        \n",
    "        x = [p[i] for p in jack_np]\n",
    "        y = [p[j] for p in jack_np]\n",
    "        ax.plot(x, y, 'x', ms=19, color='r', label='Null position')\n",
    "        for p_min, p_max in zip(jack_np_min, jack_np_max):\n",
    "            ax.plot((p_min[i], p_max[i]), (p_min[j], p_max[j]), '-', lw=3, color='r', alpha=0.7)\n",
    "        \n",
    "        x = [p[i] for p in tnp]\n",
    "        y = [p[j] for p in tnp]\n",
    "        ax.plot(x, y, '+', ms=19, color='g', label='Transformed null position')\n",
    "        for p_min, p_max in zip(tnp_min, tnp_max):\n",
    "            ax.plot((p_min[i], p_max[i]), (p_min[j], p_max[j]), '-', lw=3, color='g', alpha=0.7)\n",
    "\n",
    "        x = [p[i] + np[i] for p, np in zip(jack_p, jack_np)]\n",
    "        y = [p[j] + np[j] for p, np in zip(jack_p, jack_np)]\n",
    "        ax.plot(x, y, '.', ms=19, color='b', label='New position')\n",
    "\n",
    "        ax.set_xlabel(labels[i], fontsize=20)\n",
    "        ax.set_ylabel(labels[j], fontsize=20)\n",
    "        ax.legend()\n",
    "        ax.grid()\n",
    "        ax.set_aspect('equal')\n",
    "        plt.tight_layout()\n",
    "   \n",
    "    labels = ('x', 'y', 'z')\n",
    "\n",
    "    visualize_plane(0, 2, (10, 10))\n",
    "    visualize_plane(0, 1, (10, 6))\n",
    "    visualize_plane(2, 1, (10, 6))\n",
    "\n",
    "\n",
    "def check():\n",
    "    def is_colinear(p1, p2, p3):\n",
    "        a1 = p1[0]*(p2[1] - p3[1]) + p2[0]*(p3[1] - p1[1]) + p3[0]*(p1[1] - p2[1])\n",
    "        a2 = p1[1]*(p2[2] - p3[2]) + p2[1]*(p3[2] - p1[2]) + p3[1]*(p1[2] - p2[2])\n",
    "        a3 = p1[2]*(p2[0] - p3[0]) + p2[2]*(p3[0] - p1[0]) + p3[2]*(p1[0] - p2[0])\n",
    "        ret = abs(a1) < 1e-6 and abs(a2) < 1e-6 and abs(a3) < 1e-6\n",
    "        if ret:\n",
    "            print(\"passed\")\n",
    "        else:\n",
    "            print(a1, a2, a3)\n",
    "            \n",
    "\n",
    "    for p_min, p_max, p, np in zip(tnp_min, tnp_max, jack_p, jack_np):\n",
    "        is_colinear(p_min, p_max, p + np)\n",
    "\n",
    "\n",
    "c_p = np.array([200., 300., 100.])\n",
    "c_r = np.radians(np.array([3, 5, 2]))  # gamma, beta, alpha\n",
    "\n",
    "rt_matrix = rotation_fixed_angle(*c_r)\n",
    "pointing = (npointing * rt_matrix.T).getA()[0]\n",
    "\n",
    "jack_p, tnp = trisphere_inverse_kinematics(c_p, c_r, c_np, jack_np)\n",
    "jack_p_min, tnp_min = trisphere_inverse_kinematics(c_p, c_r, c_np, jack_np_min)\n",
    "jack_p_max, tnp_max = trisphere_inverse_kinematics(c_p, c_r, c_np, jack_np_max)\n",
    "\n",
    "for p in jack_p:\n",
    "    print(p)\n",
    "\n",
    "check() \n",
    "    \n",
    "visualize()"
   ]
  }
 ],
 "metadata": {
  "kernelspec": {
   "display_name": "Python 3",
   "language": "python",
   "name": "python3"
  },
  "language_info": {
   "codemirror_mode": {
    "name": "ipython",
    "version": 3
   },
   "file_extension": ".py",
   "mimetype": "text/x-python",
   "name": "python",
   "nbconvert_exporter": "python",
   "pygments_lexer": "ipython3",
   "version": "3.6.6"
  }
 },
 "nbformat": 4,
 "nbformat_minor": 1
}
