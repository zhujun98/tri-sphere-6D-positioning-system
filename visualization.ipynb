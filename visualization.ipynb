{
 "cells": [
  {
   "cell_type": "code",
   "execution_count": null,
   "metadata": {},
   "outputs": [],
   "source": [
    "import numpy as np\n",
    "import matplotlib.pyplot as plt\n",
    "%matplotlib inline\n",
    "\n",
    "from kinematics import (\n",
    "    trisphere_forward_kinematics, trisphere_inverse_kinematics, rotation_x, rotation_y, rotation_z, \n",
    "    rotation_fixed_angle\n",
    ")"
   ]
  },
  {
   "cell_type": "code",
   "execution_count": null,
   "metadata": {},
   "outputs": [],
   "source": [
    "jack1_p0 = np.array([1150, 100, 0])\n",
    "jack2_p0 = np.array([0, 0, 0])\n",
    "jack3_p0 = np.array([530, 970, 0])\n",
    "jack_p0 = (jack1_p0, jack2_p0, jack3_p0)\n",
    "\n",
    "jack1_p0_min = jack1_p0 - np.array([200, 0, 0])\n",
    "jack1_p0_max = jack1_p0 + np.array([200, 0, 0])\n",
    "\n",
    "jack2_p0_min = jack2_p0 - np.array([0, 200, 0])\n",
    "jack2_p0_max = jack2_p0 + np.array([0, 200, 0])\n",
    "\n",
    "jack3_p0_min = jack3_p0 - np.array([0, 200, 0])\n",
    "jack3_p0_max = jack3_p0 + np.array([0, 200, 0])\n",
    "\n",
    "jack_p0_min = (jack1_p0_min, jack2_p0_min, jack3_p0_min)\n",
    "jack_p0_max = (jack1_p0_max, jack2_p0_max, jack3_p0_max)\n",
    "\n",
    "c_p0 = np.array([300, 300, 300])\n",
    "c_r0 = np.array([0, 0, 0])\n",
    "\n",
    "pointing0 = np.array([0., 0., 1.])"
   ]
  },
  {
   "cell_type": "markdown",
   "metadata": {},
   "source": [
    "## Forward kinematics"
   ]
  },
  {
   "cell_type": "code",
   "execution_count": null,
   "metadata": {},
   "outputs": [],
   "source": [
    "jack_dp = (np.array([  0.,          65.19615483, -99.13813213]), \n",
    "           np.array([ -0.37554796,   0.,         -24.90310916]), \n",
    "           np.array([-31.73495911,   0.,         -12.10101101]))\n",
    "\n",
    "print(trisphere_forward_kinematics(jack_dp, jack_p0, c_p0))"
   ]
  },
  {
   "cell_type": "markdown",
   "metadata": {},
   "source": [
    "## Inverse kinematics"
   ]
  },
  {
   "cell_type": "code",
   "execution_count": null,
   "metadata": {},
   "outputs": [],
   "source": [
    "def plot_arrow(ax, x0, y0, dx, dy, color):\n",
    "    ax.plot(x0, y0, '.', color=color, ms=20, label='Origin of control point')\n",
    "    ax.plot((x0, x0 + 100*dx), (y0, y0 + 100*dy), '-', color=color, lw=2, alpha=0.7)\n",
    "    if dx or dy:\n",
    "        ax.arrow(x0 + 80*dx, y0 + 80*dy, dx, dy, head_width=25, head_length=40, color=color)    \n",
    "\n",
    "    \n",
    "def visualize():\n",
    "    \"\"\"\"\"\"\n",
    "    def visualize_plane(i, j, figsize):\n",
    "        fig, ax = plt.subplots(figsize=figsize)\n",
    "\n",
    "        # original vector\n",
    "        plot_arrow(ax, c_p0[i], c_p0[j], pointing0[i], pointing0[j], 'k')\n",
    "        \n",
    "        # target vector\n",
    "        plot_arrow(ax, c_dp[i] + c_p0[i], c_dp[j] + c_p0[j], pointing[i], pointing[j], 'r')\n",
    "        \n",
    "        x = [p[i] for p in jack_p0]\n",
    "        y = [p[j] for p in jack_p0]\n",
    "        ax.plot(x, y, 'x', ms=19, color='r', label='Null position')\n",
    "        for p_min, p_max in zip(jack_p0_min, jack_p0_max):\n",
    "            ax.plot((p_min[i], p_max[i]), (p_min[j], p_max[j]), '-', lw=3, color='r', alpha=0.7)\n",
    "        \n",
    "        x = [p[i] for p in tp0]\n",
    "        y = [p[j] for p in tp0]\n",
    "        ax.plot(x, y, '+', ms=19, color='g', label='Transformed null position')\n",
    "        for p_min, p_max in zip(tp0_min, tp0_max):\n",
    "            ax.plot((p_min[i], p_max[i]), (p_min[j], p_max[j]), '-', lw=3, color='g', alpha=0.7)\n",
    "\n",
    "        x = [p[i] + p0[i] for p, p0 in zip(jack_p, jack_p0)]\n",
    "        y = [p[j] + p0[j] for p, p0 in zip(jack_p, jack_p0)]\n",
    "        ax.plot(x, y, '.', ms=19, color='b', label='New position')\n",
    "\n",
    "        ax.set_xlabel(labels[i], fontsize=20)\n",
    "        ax.set_ylabel(labels[j], fontsize=20)\n",
    "        ax.legend()\n",
    "        ax.grid()\n",
    "        ax.set_aspect('equal')\n",
    "        plt.tight_layout()\n",
    "   \n",
    "    labels = ('x', 'y', 'z')\n",
    "\n",
    "    visualize_plane(0, 1, (10, 10))\n",
    "    visualize_plane(0, 2, (10, 5))\n",
    "    visualize_plane(1, 2, (10, 5))\n",
    "\n",
    "\n",
    "def check():\n",
    "    def is_colinear(p1, p2, p3):\n",
    "        a1 = p1[0]*(p2[1] - p3[1]) + p2[0]*(p3[1] - p1[1]) + p3[0]*(p1[1] - p2[1])\n",
    "        a2 = p1[1]*(p2[2] - p3[2]) + p2[1]*(p3[2] - p1[2]) + p3[1]*(p1[2] - p2[2])\n",
    "        a3 = p1[2]*(p2[0] - p3[0]) + p2[2]*(p3[0] - p1[0]) + p3[2]*(p1[0] - p2[0])\n",
    "        ret = abs(a1) < 1e-6 and abs(a2) < 1e-6 and abs(a3) < 1e-6\n",
    "        if ret:\n",
    "            print(\"passed\")\n",
    "        else:\n",
    "            print(a1, a2, a3)\n",
    "            \n",
    "\n",
    "    for p_min, p_max, p, p0 in zip(tp0_min, tp0_max, jack_p, jack_p0):\n",
    "        is_colinear(p_min, p_max, p + p0)\n",
    "\n",
    "\n",
    "c_dp = np.array([10., 20., -30.])\n",
    "c_dr = np.radians(np.array([3, 4, 2]))  # gamma, beta, alpha\n",
    "\n",
    "rt_matrix = rotation_fixed_angle(*c_dr)\n",
    "pointing = (pointing0 * rt_matrix.T).getA()[0]\n",
    "\n",
    "jack_p, tp0 = trisphere_inverse_kinematics(c_dp, c_dr, c_p0, jack_p0)\n",
    "jack_p_min, tp0_min = trisphere_inverse_kinematics(c_dp, c_dr, c_p0, jack_p0_min)\n",
    "jack_p_max, tp0_max = trisphere_inverse_kinematics(c_dp, c_dr, c_p0, jack_p0_max)\n",
    "\n",
    "for p in jack_p:\n",
    "    print(p)\n",
    "\n",
    "check() \n",
    "    \n",
    "visualize()"
   ]
  }
 ],
 "metadata": {
  "kernelspec": {
   "display_name": "Python 3",
   "language": "python",
   "name": "python3"
  },
  "language_info": {
   "codemirror_mode": {
    "name": "ipython",
    "version": 3
   },
   "file_extension": ".py",
   "mimetype": "text/x-python",
   "name": "python",
   "nbconvert_exporter": "python",
   "pygments_lexer": "ipython3",
   "version": "3.6.6"
  }
 },
 "nbformat": 4,
 "nbformat_minor": 1
}
